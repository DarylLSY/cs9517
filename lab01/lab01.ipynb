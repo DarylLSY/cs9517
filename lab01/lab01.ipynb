{
 "cells": [
  {
   "cell_type": "code",
   "execution_count": 2,
   "metadata": {},
   "outputs": [
    {
     "data": {
      "text/plain": [
       "True"
      ]
     },
     "execution_count": 2,
     "metadata": {},
     "output_type": "execute_result"
    }
   ],
   "source": [
    "# 1. Contrast Stretching\n",
    "\n",
    "import cv2\n",
    "import numpy as np\n",
    "\n",
    "img_path = \"pictures/Cat.png\"\n",
    "\n",
    "# For 8-bit RGB image\n",
    "a = 0\n",
    "b = 255\n",
    "\n",
    "image = cv2.imread(img_path)\n",
    "\n",
    "c = 255\n",
    "d = 0\n",
    "\n",
    "# Calculate lowest and highest pixel brightness\n",
    "for i in image:\n",
    "    for pixel in i:\n",
    "        c = pixel[0] if pixel[0] < c else c\n",
    "        d = pixel[0] if pixel[0] > d else d\n",
    "\n",
    "e = (b - a)/(d - c)\n",
    "\n",
    "(h, w, _) = image.shape\n",
    "\n",
    "# Iterate through image to adjust pixels\n",
    "for i in range(h):\n",
    "    for j in range(w):\n",
    "        image[i][j] = (image[i][j] - c) * e + a\n",
    "\n",
    "cv2.imwrite(\"output/contrast.png\", image)"
   ]
  },
  {
   "cell_type": "code",
   "execution_count": 3,
   "metadata": {},
   "outputs": [
    {
     "data": {
      "image/png": "[encoded data removed]",
      "text/plain": [
       "<Figure size 640x480 with 1 Axes>"
      ]
     },
     "metadata": {},
     "output_type": "display_data"
    }
   ],
   "source": [
    "# 2. Histogram Calculation\n",
    "\n",
    "import cv2\n",
    "import numpy as np\n",
    "import matplotlib.pyplot as plt\n",
    "\n",
    "img_path = \"pictures/Cat.png\"\n",
    "\n",
    "image = cv2.imread(img_path)\n",
    "\n",
    "h = [0 for i in range(256)]\n",
    "g = []\n",
    "\n",
    "for i in image:\n",
    "    for pixel in i:\n",
    "        intensity = pixel[0]\n",
    "        h[intensity] += 1\n",
    "        g.append(intensity)\n",
    "\n",
    "# plt.hist(image.ravel,256,[0,256])\n",
    "plt.hist(g, 256, [0, 256])\n",
    "plt.show()"
   ]
  },
  {
   "cell_type": "code",
   "execution_count": 18,
   "metadata": {},
   "outputs": [
    {
     "data": {
      "text/plain": [
       "True"
      ]
     },
     "execution_count": 18,
     "metadata": {},
     "output_type": "execute_result"
    }
   ],
   "source": [
    "# 3. Filtering\n",
    "\n",
    "import cv2\n",
    "import numpy as np\n",
    "import matplotlib.pyplot as plt\n",
    "\n",
    "img_path = \"pictures/Moon.png\"\n",
    "\n",
    "image = cv2.imread(img_path)\n",
    "\n",
    "size = 9\n",
    "n = size // 2\n",
    "\n",
    "(h, w, _) = image.shape\n",
    "output1 = image.copy()\n",
    "output2 = image.copy()\n",
    "\n",
    "# Iterate through image to adjust pixels\n",
    "for i in range(h):\n",
    "    for j in range(w):\n",
    "        neighbours = []\n",
    "        for x in range(i - n, i + n):\n",
    "            for y in range(j - n, j + n):\n",
    "                try:\n",
    "                    v = image[x][y][0]\n",
    "                    neighbours.append(v)\n",
    "                except IndexError:\n",
    "                    continue\n",
    "        \n",
    "        output1[i][j][0] = output1[i][j][1] = output1[i][j][2] = sum(neighbours) / len(neighbours)\n",
    "        output2[i][j][0] = output2[i][j][1] = output2[i][j][2] = np.median(neighbours)\n",
    "\n",
    "cv2.imwrite(\"output/mean_filter.png\", output1)\n",
    "cv2.imwrite(\"output/median_filter.png\", output2)\n",
    "            "
   ]
  },
  {
   "cell_type": "code",
   "execution_count": null,
   "metadata": {},
   "outputs": [],
   "source": []
  }
 ],
 "metadata": {
  "kernelspec": {
   "display_name": "Python 3.8.10 64-bit",
   "language": "python",
   "name": "python3"
  },
  "language_info": {
   "codemirror_mode": {
    "name": "ipython",
    "version": 3
   },
   "file_extension": ".py",
   "mimetype": "text/x-python",
   "name": "python",
   "nbconvert_exporter": "python",
   "pygments_lexer": "ipython3",
   "version": "3.8.10"
  },
  "orig_nbformat": 4,
  "vscode": {
   "interpreter": {
    "hash": "916dbcbb3f70747c44a77c7bcd40155683ae19c65e1c03b4aa3499c5328201f1"
   }
  }
 },
 "nbformat": 4,
 "nbformat_minor": 2
}

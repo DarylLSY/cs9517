{
 "cells": [
  {
   "cell_type": "code",
   "execution_count": null,
   "metadata": {},
   "outputs": [],
   "source": [
    "# 2. Histogram Calculation\n",
    "\n",
    "import cv2\n",
    "import numpy as np\n",
    "import matplotlib.pyplot as plt\n",
    "\n",
    "img_path = \"pictures/Cat.png\"\n",
    "\n",
    "image = cv2.imread(img_path, cv2.IMREAD_GRAYSCALE)\n",
    "\n",
    "h = [0 for i in range(256)]\n",
    "g = []\n",
    "\n",
    "for i in image:\n",
    "    for pixel in i:\n",
    "        intensity = pixel\n",
    "        h[intensity] += 1\n",
    "        g.append(intensity)\n",
    "\n",
    "# plt.hist(image.ravel,256,[0,256])\n",
    "plt.hist(g, 256, [0, 256])\n",
    "plt.show()"
   ]
  }
 ],
 "metadata": {
  "kernelspec": {
   "display_name": "Python 3.8.10 64-bit",
   "language": "python",
   "name": "python3"
  },
  "language_info": {
   "name": "python",
   "version": "3.8.10"
  },
  "orig_nbformat": 4,
  "vscode": {
   "interpreter": {
    "hash": "916dbcbb3f70747c44a77c7bcd40155683ae19c65e1c03b4aa3499c5328201f1"
   }
  }
 },
 "nbformat": 4,
 "nbformat_minor": 2
}

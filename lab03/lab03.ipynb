{
 "cells": [
  {
   "cell_type": "code",
   "execution_count": 41,
   "metadata": {},
   "outputs": [],
   "source": [
    "import tensorflow as tf\n",
    "import numpy as np\n",
    "\n",
    "from sklearn.neighbors import KNeighborsClassifier\n",
    "from sklearn.tree import DecisionTreeClassifier\n",
    "from sklearn.linear_model import SGDClassifier\n",
    "from sklearn import metrics"
   ]
  },
  {
   "cell_type": "code",
   "execution_count": 42,
   "metadata": {},
   "outputs": [],
   "source": [
    "training_size = 12000\n",
    "testing_size = 1000\n",
    "\n",
    "(x_train, y_train), (x_test, y_test) = tf.keras.datasets.fashion_mnist.load_data()\n",
    "x_train = x_train[0:training_size]\n",
    "y_train = y_train[0:training_size]\n",
    "\n",
    "x_test = x_test[0:testing_size]\n",
    "y_test = y_test[0:testing_size]\n",
    "\n",
    "x_train = [x_train[i].reshape(-1,) for i in range(training_size)] \n",
    "x_test = [x_test[i].reshape(-1,) for i in range(testing_size)]\n"
   ]
  },
  {
   "cell_type": "code",
   "execution_count": 43,
   "metadata": {},
   "outputs": [
    {
     "name": "stdout",
     "output_type": "stream",
     "text": [
      "Accuracy:  0.83\n",
      "Precision:  0.8335518064574142\n",
      "Recall:  0.83\n",
      "F1 Score:  0.8299426671612983\n"
     ]
    },
    {
     "data": {
      "text/plain": [
       "array([[ 89,   0,   1,   3,   0,   0,  14,   0,   0,   0],\n",
       "       [  1, 102,   0,   1,   1,   0,   0,   0,   0,   0],\n",
       "       [  3,   0,  90,   0,   8,   0,  10,   0,   0,   0],\n",
       "       [  8,   1,   0,  77,   5,   0,   2,   0,   0,   0],\n",
       "       [  0,   0,  19,   5,  80,   0,  11,   0,   0,   0],\n",
       "       [  0,   0,   0,   0,   0,  73,   0,   8,   0,   6],\n",
       "       [ 20,   0,  16,   2,   8,   0,  51,   0,   0,   0],\n",
       "       [  0,   0,   0,   0,   0,   1,   0,  86,   0,   8],\n",
       "       [  0,   0,   0,   0,   1,   0,   3,   0,  91,   0],\n",
       "       [  0,   0,   0,   0,   0,   0,   0,   4,   0,  91]])"
      ]
     },
     "execution_count": 43,
     "metadata": {},
     "output_type": "execute_result"
    }
   ],
   "source": [
    "\n",
    "KNN = KNeighborsClassifier(\n",
    "    n_neighbors=5,\n",
    "    algorithm='auto',\n",
    "    leaf_size=30,\n",
    "    metric='minkowski',\n",
    "    p=1,\n",
    "    metric_params=None,\n",
    "    n_jobs=None\n",
    ")\n",
    "\n",
    "KNN.fit(x_train, y_train)\n",
    "result = KNN.predict(x_test)\n",
    "print('Accuracy: ', metrics.accuracy_score(y_test, result))\n",
    "print('Precision: ', metrics.precision_score(y_test, result, average='weighted'))\n",
    "print('Recall: ', metrics.recall_score(y_test, result, average='weighted'))\n",
    "print('F1 Score: ', metrics.f1_score(y_test, result, average='weighted'))\n",
    "\n",
    "metrics.confusion_matrix(y_test, result)"
   ]
  },
  {
   "cell_type": "code",
   "execution_count": 44,
   "metadata": {},
   "outputs": [
    {
     "name": "stdout",
     "output_type": "stream",
     "text": [
      "Accuracy:  0.807\n",
      "Precision:  0.80590133619678\n",
      "Recall:  0.807\n",
      "F1 Score:  0.8056017556147596\n"
     ]
    },
    {
     "data": {
      "text/plain": [
       "array([[86,  0,  2,  5,  0,  0, 11,  1,  2,  0],\n",
       "       [ 1, 98,  0,  6,  0,  0,  0,  0,  0,  0],\n",
       "       [ 3,  1, 78,  1, 16,  0, 11,  0,  1,  0],\n",
       "       [ 6,  2,  0, 77,  4,  1,  1,  0,  0,  2],\n",
       "       [ 1,  0, 19,  1, 85,  0,  9,  0,  0,  0],\n",
       "       [ 0,  0,  0,  0,  0, 74,  0,  8,  4,  1],\n",
       "       [15,  1, 14,  5, 13,  0, 48,  0,  1,  0],\n",
       "       [ 0,  0,  0,  0,  0,  3,  0, 89,  0,  3],\n",
       "       [ 0,  1,  2,  0,  0,  1,  3,  1, 87,  0],\n",
       "       [ 0,  0,  0,  0,  0,  2,  0,  8,  0, 85]])"
      ]
     },
     "execution_count": 44,
     "metadata": {},
     "output_type": "execute_result"
    }
   ],
   "source": [
    "DTC = DecisionTreeClassifier(\n",
    "    criterion='entropy',\n",
    "    splitter='best',\n",
    "    max_depth=10,\n",
    "    min_samples_split=2,\n",
    "    min_samples_leaf=1,\n",
    "    min_weight_fraction_leaf=0.0,\n",
    "    max_features=None,\n",
    "    random_state=None,\n",
    "    max_leaf_nodes=None,\n",
    "    min_impurity_decrease=0.0,\n",
    "    class_weight=None,\n",
    "    ccp_alpha=0.0)\n",
    "\n",
    "DTC.fit(x_train, y_train)\n",
    "result = DTC.predict(x_test)\n",
    "print('Accuracy: ', metrics.accuracy_score(y_test, result))\n",
    "print('Precision: ', metrics.precision_score(y_test, result, average='weighted'))\n",
    "print('Recall: ', metrics.recall_score(y_test, result, average='weighted'))\n",
    "print('F1 Score: ', metrics.f1_score(y_test, result, average='weighted'))\n",
    "\n",
    "metrics.confusion_matrix(y_test, result)"
   ]
  },
  {
   "cell_type": "code",
   "execution_count": 45,
   "metadata": {},
   "outputs": [
    {
     "name": "stdout",
     "output_type": "stream",
     "text": [
      "Accuracy:  0.807\n",
      "Precision:  0.8096754322260206\n",
      "Recall:  0.807\n",
      "F1 Score:  0.8045094905297903\n"
     ]
    },
    {
     "data": {
      "text/plain": [
       "array([[ 79,   2,   4,   6,   0,   0,  12,   0,   4,   0],\n",
       "       [  0, 101,   0,   4,   0,   0,   0,   0,   0,   0],\n",
       "       [  2,   1,  89,   1,   8,   0,  10,   0,   0,   0],\n",
       "       [  2,   5,   3,  73,   3,   0,   3,   0,   4,   0],\n",
       "       [  1,   0,  21,   9,  79,   0,   5,   0,   0,   0],\n",
       "       [  0,   1,   0,   1,   0,  70,   1,   5,   5,   4],\n",
       "       [  7,   0,  21,   4,  12,   0,  47,   0,   6,   0],\n",
       "       [  0,   0,   0,   0,   0,   2,   0,  87,   1,   5],\n",
       "       [  1,   0,   1,   0,   1,   0,   0,   0,  92,   0],\n",
       "       [  0,   0,   0,   0,   0,   0,   0,   4,   1,  90]])"
      ]
     },
     "execution_count": 45,
     "metadata": {},
     "output_type": "execute_result"
    }
   ],
   "source": [
    "SGD = SGDClassifier(\n",
    "    loss='hinge',\n",
    "    penalty='l2'\n",
    ")\n",
    "\n",
    "SGD.fit(x_train, y_train)\n",
    "result = SGD.predict(x_test)\n",
    "print('Accuracy: ', metrics.accuracy_score(y_test, result))\n",
    "print('Precision: ', metrics.precision_score(y_test, result, average='weighted'))\n",
    "print('Recall: ', metrics.recall_score(y_test, result, average='weighted'))\n",
    "print('F1 Score: ', metrics.f1_score(y_test, result, average='weighted'))\n",
    "\n",
    "metrics.confusion_matrix(y_test, result)"
   ]
  },
  {
   "cell_type": "markdown",
   "metadata": {},
   "source": [
    "The accuracy of the all three classifiers are lower than that found in the Fashion-MINST paper. This is due to the smaller training sample."
   ]
  }
 ],
 "metadata": {
  "kernelspec": {
   "display_name": "Python 3.8.10 64-bit",
   "language": "python",
   "name": "python3"
  },
  "language_info": {
   "codemirror_mode": {
    "name": "ipython",
    "version": 3
   },
   "file_extension": ".py",
   "mimetype": "text/x-python",
   "name": "python",
   "nbconvert_exporter": "python",
   "pygments_lexer": "ipython3",
   "version": "3.8.10"
  },
  "orig_nbformat": 4,
  "vscode": {
   "interpreter": {
    "hash": "916dbcbb3f70747c44a77c7bcd40155683ae19c65e1c03b4aa3499c5328201f1"
   }
  }
 },
 "nbformat": 4,
 "nbformat_minor": 2
}
